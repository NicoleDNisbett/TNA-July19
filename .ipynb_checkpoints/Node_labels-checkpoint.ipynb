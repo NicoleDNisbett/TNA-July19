{
 "cells": [
  {
   "cell_type": "code",
   "execution_count": 3,
   "metadata": {},
   "outputs": [],
   "source": [
    "from collections import defaultdict"
   ]
  },
  {
   "cell_type": "code",
   "execution_count": 4,
   "metadata": {},
   "outputs": [],
   "source": [
    "f = open(\"Bipartite edge files/Dec17.csv\", \"r\")"
   ]
  },
  {
   "cell_type": "code",
   "execution_count": 5,
   "metadata": {},
   "outputs": [],
   "source": [
    "month_user_label = defaultdict(dict)"
   ]
  },
  {
   "cell_type": "code",
   "execution_count": 6,
   "metadata": {},
   "outputs": [
    {
     "name": "stderr",
     "output_type": "stream",
     "text": [
      "IOPub data rate exceeded.\n",
      "The notebook server will temporarily stop sending output\n",
      "to the client in order to avoid crashing it.\n",
      "To change this limit, set the config variable\n",
      "`--NotebookApp.iopub_data_rate_limit`.\n",
      "\n",
      "Current values:\n",
      "NotebookApp.iopub_data_rate_limit=1000000.0 (bytes/sec)\n",
      "NotebookApp.rate_limit_window=3.0 (secs)\n",
      "\n"
     ]
    }
   ],
   "source": [
    "f.readline()\n",
    "for l in f:\n",
    "    try:\n",
    "        l = l.split(\",\")\n",
    "        slot = l[-1].split(\"-\")\n",
    "        slot = f\"{slot[0]}_{slot[1]}\"\n",
    "        user = l[0]\n",
    "        topic = int(l[3])\n",
    "        topic_w = l[2]\n",
    "        if user in month_user_label[slot]:\n",
    "            if topic in month_user_label[slot][user]:\n",
    "                month_user_label[slot][user][topic] += topic_w\n",
    "            else:\n",
    "                month_user_label[slot][user][topic] = topic_w\n",
    "        else:\n",
    "            month_user_label[slot][user] = {topic: topic_w}\n",
    "        print(month_user_label.items())\n",
    "    except:\n",
    "        pass"
   ]
  },
  {
   "cell_type": "code",
   "execution_count": 7,
   "metadata": {},
   "outputs": [
    {
     "name": "stdout",
     "output_type": "stream",
     "text": [
      "1\n"
     ]
    }
   ],
   "source": [
    "print(len(month_user_label))"
   ]
  },
  {
   "cell_type": "code",
   "execution_count": 8,
   "metadata": {},
   "outputs": [
    {
     "name": "stdout",
     "output_type": "stream",
     "text": [
      "Dec_17\n",
      " 705\n"
     ]
    }
   ],
   "source": [
    "import operator\n",
    "for month, udata in month_user_label.items():\n",
    "    print(month, len(udata))\n",
    "    for user, topics in udata.items():\n",
    "        tp = max(topics.items(), key=operator.itemgetter(1))[0]\n",
    "        month_user_label[month][user] = tp"
   ]
  },
  {
   "cell_type": "code",
   "execution_count": 22,
   "metadata": {},
   "outputs": [],
   "source": [
    "for month, udata in month_user_label.items():\n",
    "    out = open(f\"{month}.csv\", \"w\")\n",
    "    for user, topic in udata.items():\n",
    "        out.write(f\"{user},{topic}\\n\")\n",
    "    out.close()"
   ]
  },
  {
   "cell_type": "code",
   "execution_count": null,
   "metadata": {},
   "outputs": [],
   "source": []
  }
 ],
 "metadata": {
  "kernelspec": {
   "display_name": "Python 3",
   "language": "python",
   "name": "python3"
  },
  "language_info": {
   "codemirror_mode": {
    "name": "ipython",
    "version": 3
   },
   "file_extension": ".py",
   "mimetype": "text/x-python",
   "name": "python",
   "nbconvert_exporter": "python",
   "pygments_lexer": "ipython3",
   "version": "3.7.3"
  }
 },
 "nbformat": 4,
 "nbformat_minor": 2
}
