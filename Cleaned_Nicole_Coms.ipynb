{
 "cells": [
  {
   "cell_type": "code",
   "execution_count": 2,
   "metadata": {},
   "outputs": [],
   "source": [
    "#if needed...\n",
    "\n",
    "import importnb\n",
    "import Eva_and_Status as pi\n",
    "\n",
    "#copy is needed, sorry ^^\n",
    "import copy\n",
    "\n",
    "import networkx as nx\n",
    "#from cdlib import algorithms, readwrite, evaluation, viz, utils\n",
    "\n",
    "from collections import defaultdict\n",
    "from collections import OrderedDict\n",
    "from collections import Counter\n",
    "from operator import itemgetter\n",
    "from itertools import groupby\n",
    "import operator\n",
    "\n",
    "#import pandas as pd\n",
    "import numpy\n",
    "import json\n",
    "import csv\n",
    "\n",
    "from os import listdir\n",
    "import os.path\n",
    "\n",
    "#import matplotlib.pyplot as plt\n",
    "#%matplotlib inline"
   ]
  },
  {
   "cell_type": "code",
   "execution_count": 3,
   "metadata": {},
   "outputs": [
    {
     "name": "stdout",
     "output_type": "stream",
     "text": [
      "5\n",
      "5\n",
      "['JanApr_17\\n.csv', 'MayAug_16\\n.csv', 'MayAug_17\\n.csv', 'SepDec_16\\n.csv', 'SepDec_17\\n.csv']\n",
      "['Proj_JanApr17.csv', 'Proj_MayAug16.csv', 'Proj_MayAug17.csv', 'Proj_SepDec16.csv', 'Proj_SepDec17.csv']\n"
     ]
    }
   ],
   "source": [
    "node_labels = sorted([f for f in listdir('TrimesterNode_labels')]) #label directory\n",
    "projections = sorted([f for f in listdir('Trimester Projections')]) #network directory\n",
    "\n",
    "#to check if they are the same\n",
    "print(len(node_labels))\n",
    "print(len(projections))\n",
    "print(node_labels)\n",
    "print(projections)"
   ]
  },
  {
   "cell_type": "code",
   "execution_count": 4,
   "metadata": {},
   "outputs": [],
   "source": [
    "#list of networks\n",
    "list_g = list()\n",
    "#for all networks\n",
    "for i, d in enumerate(projections):\n",
    "    #build the net\n",
    "    g = nx.Graph()\n",
    "    with open('Trimester Projections/' + d,'rt')as f:\n",
    "        data = csv.reader(f)\n",
    "        for l in data:\n",
    "            l = [s.split() for s in l]\n",
    "            g.add_edge(l[0][0],l[0][1])        \n",
    "    list_g.append(g) #add to the list"
   ]
  },
  {
   "cell_type": "code",
   "execution_count": 5,
   "metadata": {},
   "outputs": [],
   "source": [
    "#directory files are ordered, so it works\n",
    "for i, nl in enumerate(node_labels):\n",
    "    with open('TrimesterNode_labels/' + nl,'rt')as f:\n",
    "        data = csv.reader(f)\n",
    "        for l in data:\n",
    "            if l[0] in list_g[i].nodes():\n",
    "                #add the labels to the nodes\n",
    "                list_g[i].add_node(l[0], labels=l[1])"
   ]
  },
  {
   "cell_type": "code",
   "execution_count": null,
   "metadata": {},
   "outputs": [],
   "source": [
    "#SOME CHECK AND ANALYSIS EXAMPLE\n",
    "\n",
    "#number of nodes for each net\n",
    "#for g in list_g:\n",
    "#    print(g.number_of_nodes())\n",
    "\n",
    "#labels of the firs net\n",
    "#print(list_g[0].nodes.data())"
   ]
  },
  {
   "cell_type": "code",
   "execution_count": 6,
   "metadata": {},
   "outputs": [
    {
     "name": "stdout",
     "output_type": "stream",
     "text": [
      "3517\n",
      "0.4218679467757036\n",
      "0.4198547609701002\n",
      "0.41940580510626646\n",
      "0.4182347951352903\n",
      "0.3749060762549112\n",
      "92\n",
      "0.40242697698424224\n",
      "0.36866744084772823\n",
      "0.40242697698424224\n",
      "0.3985822809309527\n",
      "0.3045389388880824\n",
      "2363\n",
      "0.37370574253049266\n",
      "0.37757150218745833\n",
      "0.3770534465811345\n",
      "0.37569063277686937\n",
      "0.32443785702966565\n",
      "472\n",
      "0.4825711665576035\n",
      "0.4809806187518162\n",
      "0.48265383106847703\n",
      "0.47714189778335175\n",
      "0.4313462827384754\n",
      "2635\n",
      "0.41866766593152926\n",
      "0.41949402241113287\n",
      "0.4200514634121995\n",
      "0.41809136900738647\n",
      "0.3595807841693465\n"
     ]
    }
   ],
   "source": [
    "for i, g in enumerate(list_g):\n",
    "    \n",
    "    #create yourself a path named \"Communities_Proj\"\n",
    "    path = \"Trimester_Communities_Proj2/\" + projections[i]\n",
    "    #create the directorys in \"Communities_Proj\n",
    "    os.mkdir(path)\n",
    "    \n",
    "    #IF ALL NODES ARE LABELED, WE DON'T NEED THIS\n",
    "    temp_g=list()\n",
    "    for k, v in g.nodes.data():\n",
    "        if len(v)!=0:\n",
    "            temp_g.append(k)\n",
    "    #new graph without no labeled nodes\n",
    "    new_g = nx.subgraph(g, temp_g)\n",
    "    \n",
    "    # nodename -> map to int\n",
    "    #use g or new_g\n",
    "    mapping = dict(zip(new_g, range(0, len(new_g))))\n",
    "    # reverse function\n",
    "    inv_map = {v: k for k, v in mapping.items()}\n",
    "    g_relabel = nx.relabel_nodes(new_g, mapping)\n",
    "    print(g_relabel.number_of_nodes())\n",
    "    \n",
    "    for alpha in [0, 0.7, 0.8, 0.9, 1]:\n",
    "        #EVA!\n",
    "        part, com_labels = pi.best_partition(g_relabel, alpha=alpha, beta=1-alpha)\n",
    "        \n",
    "        modularity = pi.modularity(part,g_relabel)\n",
    "        print(modularity)\n",
    "        purity = pi.purity(com_labels)\n",
    "        \n",
    "        #list of list of communities\n",
    "        sorted_part = sorted(list(part.items()), key=itemgetter(1))\n",
    "        groups = groupby(sorted_part, key=itemgetter(1))\n",
    "        group_by_com_attr = [[x[0] for x in v] for k, v in groups]\n",
    "\n",
    "        #save it with the original namenodes\n",
    "        original_group = list()\n",
    "        for el in group_by_com_attr:\n",
    "            el = copy.deepcopy(el)\n",
    "            el = nx.subgraph(g_relabel, el)\n",
    "            el = nx.relabel_nodes(el, inv_map)\n",
    "            original_group.append(list(el.nodes()))\n",
    "        \n",
    "        coms = defaultdict(int)\n",
    "        for n, c in part.items():\n",
    "            coms[c] += 1\n",
    "            \n",
    "        #print(sorted(dict(coms).items(), key=lambda x: x[0]))\n",
    "        attr = sorted(com_labels.items(), key=lambda x: x[0])\n",
    "        \n",
    "        #the most frequent attr\n",
    "        max_attrs = list()\n",
    "        for el in attr:\n",
    "            max_attrs.append( [el[0], max(el[1].items(), key=operator.itemgetter(1))[0]] )\n",
    "        \n",
    "        #save it!\n",
    "        res = {\"alpha\": alpha,\n",
    "           \"purity\": purity,\n",
    "           \"modularity\": modularity,\n",
    "           \"coms_max_label\": max_attrs,\n",
    "           \"coms\": original_group}\n",
    "        \n",
    "        js = json.dumps(res)\n",
    "        filename = \"alpha_\" + str(alpha)\n",
    "        f = open(os.path.join(path, filename), 'w')\n",
    "        f.write(js)\n",
    "        f.close()"
   ]
  },
  {
   "cell_type": "markdown",
   "metadata": {},
   "source": []
  },
  {
   "cell_type": "code",
   "execution_count": null,
   "metadata": {},
   "outputs": [],
   "source": []
  }
 ],
 "metadata": {
  "kernelspec": {
   "display_name": "Python 3",
   "language": "python",
   "name": "python3"
  },
  "language_info": {
   "codemirror_mode": {
    "name": "ipython",
    "version": 3
   },
   "file_extension": ".py",
   "mimetype": "text/x-python",
   "name": "python",
   "nbconvert_exporter": "python",
   "pygments_lexer": "ipython3",
   "version": "3.7.3"
  }
 },
 "nbformat": 4,
 "nbformat_minor": 2
}
